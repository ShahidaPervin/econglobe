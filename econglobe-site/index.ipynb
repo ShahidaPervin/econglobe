# Filter for cereal prices
cereal_data = data[data['Commodity'] == 'Cereals']

# Convert date to datetime if needed
cereal_data['Year'] = pd.to_datetime(cereal_data['Year'], format='%Y')
cereal_data = cereal_data.sort_values('Year')

import matplotlib.pyplot as plt
import pandas as pd

# Example: Download FAO crop production data from an online CSV (replace with your source as needed)
url = "https://raw.githubusercontent.com/datasets/agriculture-crops/master/data/crop-production.csv"
data = pd.read_csv(url)

# Show the first few rows
print("Data preview:")
display(data.head())

# Basic analysis: total production by crop
production_by_crop = data.groupby("Crop")["Production"].sum().sort_values(ascending=False)
print("Total production by crop:")
display(production_by_crop)

# Plot top 10 crops by total production
top_crops = production_by_crop.head(10)
plt.figure(figsize=(10,6))
top_crops.plot(kind='bar')
plt.title("Top 10 Crops by Total Production")
plt.ylabel("Production (tonnes)")
plt.xlabel("Crop")
plt.tight_layout()
plt.show()
