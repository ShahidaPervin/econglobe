import pandas as pd
import numpy as np
import matplotlib.pyplot as plt
import requests


# Example: World Bank Commodity Prices for Maize
url = 'https://api.worldbank.org/v2/en/indicator/PMAIZ_USD?downloadformat=csv'
# This URL is for demonstration; you may need to download and unzip the file or use other sources/APIs.
# Alternatively, use FAO or Quandl for more convenient APIs.

# For illustration, let's use FAO’s food price index via an open CSV endpoint:
fao_url = 'https://fenixservices.fao.org/faostat/static/bulkdownloads/Food_Prices_E_All_Data.csv'
data = pd.read_csv(fao_url)
data.head()





# Filter for cereal prices
cereal_data = data[data['Commodity'] == 'Cereals']

# Convert date to datetime if needed
cereal_data['Year'] = pd.to_datetime(cereal_data['Year'], format='%Y')
cereal_data = cereal_data.sort_values('Year')

import matplotlib.pyplot as plt
import pandas as pd

# Example: Download FAO crop production data from an online CSV (replace with your source as needed)
url = "https://raw.githubusercontent.com/datasets/agriculture-crops/master/data/crop-production.csv"
data = pd.read_csv(url)

# Show the first few rows
print("Data preview:")
display(data.head())

# Basic analysis: total production by crop
production_by_crop = data.groupby("Crop")["Production"].sum().sort_values(ascending=False)
print("Total production by crop:")
display(production_by_crop)

# Plot top 10 crops by total production
top_crops = production_by_crop.head(10)
plt.figure(figsize=(10,6))
top_crops.plot(kind='bar')
plt.title("Top 10 Crops by Total Production")
plt.ylabel("Production (tonnes)")
plt.xlabel("Crop")
plt.tight_layout()
plt.show()
