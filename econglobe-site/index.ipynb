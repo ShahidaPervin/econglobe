import pandas as pd
import numpy as np
import matplotlib.pyplot as plt
import requests


# Example: World Bank Commodity Prices for Maize
url = 'https://api.worldbank.org/v2/en/indicator/PMAIZ_USD?downloadformat=csv'
# This URL is for demonstration; you may need to download and unzip the file or use other sources/APIs.
# Alternatively, use FAO or Quandl for more convenient APIs.

# For illustration, let's use FAO’s food price index via an open CSV endpoint:
fao_url = 'https://fenixservices.fao.org/faostat/static/bulkdownloads/Food_Prices_E_All_Data.csv'
data = pd.read_csv(fao_url)
data.head()


# Filter for cereal prices
cereal_data = data[data['Commodity'] == 'Cereals']

# Convert date to datetime if needed
cereal_data['Year'] = pd.to_datetime(cereal_data['Year'], format='%Y')
cereal_data = cereal_data.sort_values('Year')

