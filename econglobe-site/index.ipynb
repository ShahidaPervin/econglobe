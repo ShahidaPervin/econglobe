import pandas as pd

fao_url = 'https://fenixservices.fao.org/faostat/static/bulkdownloads/Food_Prices_E_All_Data.csv'
try:
    data = pd.read_csv(fao_url)
    print(data.columns)  # Inspect column names
    if 'Commodity' in data.columns and 'Year' in data.columns:
        cereal_data = data[data['Commodity'] == 'Cereals']
        cereal_data['Year'] = pd.to_datetime(cereal_data['Year'], format='%Y')
        cereal_data = cereal_data.sort_values('Year')
        print(cereal_data.head())
    else:
        print("Required columns not found!")
except Exception as e:
    print(f"Could not load data: {e}")
